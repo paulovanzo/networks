{
  "nbformat": 4,
  "nbformat_minor": 0,
  "metadata": {
    "colab": {
      "name": "Week 03 - Exercise.ipynb",
      "provenance": [],
      "collapsed_sections": []
    },
    "kernelspec": {
      "name": "python3",
      "display_name": "Python 3"
    },
    "language_info": {
      "name": "python"
    }
  },
  "cells": [
    {
      "cell_type": "markdown",
      "metadata": {
        "id": "YGoGFx3lWBbJ"
      },
      "source": [
        "Student Identification\n",
        "\n",
        "- Name Student: **BRENDA ALEXANDRA DE SOUZA SILVA** \n",
        "- Name Student: **PAULO VANZOLINI MOURA DA SILVA**"
      ]
    },
    {
      "cell_type": "markdown",
      "metadata": {
        "id": "0vUTEVI2SSAQ"
      },
      "source": [
        "# Exercise Q&A (1,00 point for grade in Unit 01)"
      ]
    },
    {
      "cell_type": "code",
      "metadata": {
        "id": "bkcCBKFweOU2"
      },
      "source": [
        "# this block of code is only for networkx adapt it for graph-tool\n",
        "# github.com/paulovanzo/networks\n",
        "!apt-get install libcairo2-dev \n",
        "!pip install pycairo\n",
        "\n",
        "!sudo echo \"deb http://downloads.skewed.de/apt bionic main\" >> /etc/apt/sources.list\n",
        "!sudo apt-key adv --keyserver keys.openpgp.org --recv-key 612DEFB798507F25\n",
        "!sudo apt-get update\n",
        "!sudo apt-get install python3-graph-tool python3-matplotlib"
      ],
      "execution_count": null,
      "outputs": []
    },
    {
      "cell_type": "markdown",
      "metadata": {
        "id": "tG_xFopi_wpj"
      },
      "source": [
        "## Question 01"
      ]
    },
    {
      "cell_type": "markdown",
      "metadata": {
        "id": "rtVDKKTDGCND"
      },
      "source": [
        "Consider a network with *N* nodes. Given a single link, what is the maximum number of nodes that link can connect? Given a single node, what is the maximum number of links that can connect to that node?"
      ]
    },
    {
      "cell_type": "markdown",
      "metadata": {
        "id": "3n2EjOMmHMuI"
      },
      "source": [
        "Answer: 2 and, in an undirected network, $\\frac{N(N-1)}{2}$ (in an directed network would be L max = N(N-1)), respectively."
      ]
    },
    {
      "cell_type": "markdown",
      "metadata": {
        "id": "uQPRLZUXHRFc"
      },
      "source": [
        "## Question 02"
      ]
    },
    {
      "cell_type": "markdown",
      "metadata": {
        "id": "FnKLHki-Hay_"
      },
      "source": [
        "\n",
        "<center><img width=\"600\" src=\"https://drive.google.com/uc?export=view&id=1Y42-c3Pq1XoszEEvYsZFdr3GccAqp7l_\"></center>\n",
        "<center><b>Figure 1</b>: Map of New York in 1880. From Report on the Social Statistics of Cities, Compiled by George E. Waring, Jr., U.S. Census Office, 1886. Image courtesy of University of Texas Libraries. <br></center>\n",
        "\n",
        "\n",
        "Consider the road map in Figure 1. The grid-like structure of this network means that most nodes have the same degree. What is the most common degree for nodes in this network?\n",
        "\n"
      ]
    },
    {
      "cell_type": "markdown",
      "metadata": {
        "id": "DtBZnm2OHgaI"
      },
      "source": [
        "Answer: Four, considering all city blocks (four-way intersections) on that network."
      ]
    },
    {
      "cell_type": "markdown",
      "metadata": {
        "id": "pyOgImYmJsh3"
      },
      "source": [
        "## Question 03"
      ]
    },
    {
      "cell_type": "markdown",
      "metadata": {
        "id": "17qGjrMHJvZ7"
      },
      "source": [
        "Consider the road map in Figure 1. Manhattan has a lot of one-way streets. This implies that a good network model of traffic flow would probably have directed links. Consider a subgraph of this network with grid-like connectivity and all one-way streets (i.e. each node is a four-way intersection of two one-way streets). What is the most common in-degree of nodes in this subgraph? What is the most common out-degree?"
      ]
    },
    {
      "cell_type": "markdown",
      "metadata": {
        "id": "71j_C-55KIVC"
      },
      "source": [
        "Answer: Both of answers will be 2 (two)."
      ]
    },
    {
      "cell_type": "markdown",
      "metadata": {
        "id": "6ajWuuasKLQ_"
      },
      "source": [
        "## Question 04"
      ]
    },
    {
      "cell_type": "markdown",
      "metadata": {
        "id": "ylQ51DMWKZxC"
      },
      "source": [
        "What network quantity can we use to represent the volume of traffic between each pair of adjacent intersections in the Manhattan road map (Figure 1)?"
      ]
    },
    {
      "cell_type": "markdown",
      "metadata": {
        "id": "oE9sJ1mWKcF0"
      },
      "source": [
        "Answer: Link weights"
      ]
    },
    {
      "cell_type": "markdown",
      "metadata": {
        "id": "udxnPkItKfX3"
      },
      "source": [
        "## Question 5"
      ]
    },
    {
      "cell_type": "markdown",
      "metadata": {
        "id": "fj7f0HL7KtOy"
      },
      "source": [
        "Consider a directed network of N nodes. Now consider the total in-degree (i.e. the sum of the in-degree over all nodes in the network). Compare this to the analogous total out-degree. Which of the following must hold true for any such network?\n",
        "\n",
        "1. Total in-degree must be less than total out-degree\n",
        "2. Total in-degree must be greater than total out-degree\n",
        "3. Total in-degree must be equal to total out-degree\n",
        "4. None of these hold true in all instances"
      ]
    },
    {
      "cell_type": "markdown",
      "metadata": {
        "id": "4P5ThuVNK3Ug"
      },
      "source": [
        "Answer: Number 3 is the correct option, as every link in a directed network it's a out-degree for one node and it's a in-degree to another, no matter how the network is given, the total in-degree must be equal to total out-degree."
      ]
    },
    {
      "cell_type": "markdown",
      "metadata": {
        "id": "QPVskC76LUtF"
      },
      "source": [
        "## Question 6"
      ]
    },
    {
      "cell_type": "markdown",
      "metadata": {
        "id": "A1TqNt5nLZkU"
      },
      "source": [
        "Consider a Twitter retweet network, where users are nodes and we want to show how many times a given user has retweeted another user. What link type best captures this relation?\n",
        "1.   Undirected, unweighted\n",
        "2.   Undirected, weighted\n",
        "3.   Directed, unweighted\n",
        "4.   Directed, weighted"
      ]
    },
    {
      "cell_type": "markdown",
      "metadata": {
        "id": "yJNqiQJ5LkFy"
      },
      "source": [
        "Answer: As each retweet the link becomes stronger, it will be a weighted and as a retweet references a tweet of another user, the network also should be directed. Therefore, the option 4 it is the correct."
      ]
    },
    {
      "cell_type": "markdown",
      "metadata": {
        "id": "ZT5mLS7-Lsb2"
      },
      "source": [
        "## Question 7"
      ]
    },
    {
      "cell_type": "markdown",
      "metadata": {
        "id": "ofRy-TURMLix"
      },
      "source": [
        "Consider a hashtag co-occurrence graph from Twitter. In this network, hashtags are the nodes, and a link between two hashtags indicates how often those two hashtags appear in tweets together. What link type would best capture this relation?\n",
        "1.   Undirected, unweighted\n",
        "2.   Undirected, weighted\n",
        "3.   Directed, unweighted\n",
        "4.   Directed, weighted"
      ]
    },
    {
      "cell_type": "markdown",
      "metadata": {
        "id": "8H7AiKavMQsT"
      },
      "source": [
        "Answer: As it should capture how often these hastags appear, the network might be weighted, but it capture when they appear together, and then the direction of the network it is irrelevant. The network might be as descripted in the option 2."
      ]
    },
    {
      "cell_type": "markdown",
      "metadata": {
        "id": "4-bIhQwpMVs3"
      },
      "source": [
        "## Question 8"
      ]
    },
    {
      "cell_type": "markdown",
      "metadata": {
        "id": "9SVLykJ6M5lM"
      },
      "source": [
        "Consider a network created from characters in a story or play. The nodes are people, and a link exists between two nodes if those characters ever engage in dialogue. Which type of edge could represent this relation? Justify your answer.\n",
        "1.   Undirected, unweighted\n",
        "2.   Undirected, weighted\n",
        "3.   Directed, unweighted\n",
        "4.   Directed, weighted"
      ]
    },
    {
      "cell_type": "markdown",
      "metadata": {
        "id": "FnvkcRD-M8eq"
      },
      "source": [
        "Answer: It does not matter how many times the characters dialogues, so the links are unweighted and as the dialogue always happens between two characters the network should be undirected. Therefore, the correct option to represent the relation it is the option 1."
      ]
    },
    {
      "cell_type": "markdown",
      "metadata": {
        "id": "S4Ga_yyYNBBo"
      },
      "source": [
        "## Question 9"
      ]
    },
    {
      "cell_type": "markdown",
      "metadata": {
        "id": "1_z4ApdLNa6a"
      },
      "source": [
        "Suppose we want to make a more complex version of a dialog network that captures how much each character speaks and to whom. What type of link would best represent this relation?\n",
        "1.   Undirected, unweighted\n",
        "2.   Undirected, weighted\n",
        "3.   Directed, unweighted\n",
        "4.   Directed, weighted"
      ]
    },
    {
      "cell_type": "markdown",
      "metadata": {
        "id": "urjFC0KTNefy"
      },
      "source": [
        "Answer: As we want to capture quantity, the link should be weighted and also if we want to capture to whom, it should be directed. The option 4 it is the correct."
      ]
    },
    {
      "cell_type": "markdown",
      "metadata": {
        "id": "hct-5tQwNg5_"
      },
      "source": [
        "## Question 10"
      ]
    },
    {
      "cell_type": "markdown",
      "metadata": {
        "id": "soJKH_N1Nnj3"
      },
      "source": [
        "Imagine that your social network has a subnetwork where you and 24 of your friends (25 people total) are all friends with each other. What is such a subnetwork called? And how many links are contained in the subnetwork?"
      ]
    },
    {
      "cell_type": "markdown",
      "metadata": {
        "id": "e8GcJrj1Npay"
      },
      "source": [
        "Answer: It's called a complete (sub)network, because all nodes connect with each other, which means, this subnetwork uses the maximum of possible links. The number of links contained in the subnetwork could be calculated with N(N-1)/2, in that case, the result would be (25*24)/2 "
      ]
    },
    {
      "cell_type": "markdown",
      "metadata": {
        "id": "--K9oj5YNrjz"
      },
      "source": [
        "## Question 11"
      ]
    },
    {
      "cell_type": "markdown",
      "metadata": {
        "id": "DRFut7ovNz41"
      },
      "source": [
        "Consider an undirected network with N nodes. What is the maximum number of links this network can have?"
      ]
    },
    {
      "cell_type": "markdown",
      "metadata": {
        "id": "60iToMENN61m"
      },
      "source": [
        "Answer: $\\frac{N(N-1)}{2}$ is the maximum number of links."
      ]
    },
    {
      "cell_type": "markdown",
      "metadata": {
        "id": "cER1jb6SN8NF"
      },
      "source": [
        "## Question 12"
      ]
    },
    {
      "cell_type": "markdown",
      "metadata": {
        "id": "PyyEb1GeOBK9"
      },
      "source": [
        "Consider a bipartite network of N nodes, $N_1$ nodes of type 1 and $N_2$ nodes of type 2 (so that $N_1 + N_2 = N$). What is the maximum number of links in this network?"
      ]
    },
    {
      "cell_type": "markdown",
      "metadata": {
        "id": "6AoiES-AOJdB"
      },
      "source": [
        "Answer: $L max = N1 \\cdot N2$"
      ]
    },
    {
      "cell_type": "markdown",
      "metadata": {
        "id": "RN4CfOSqOK_1"
      },
      "source": [
        "## Question 13"
      ]
    },
    {
      "cell_type": "markdown",
      "metadata": {
        "id": "9SGJKgblOO9g"
      },
      "source": [
        "Given a complete network A with N nodes, and a bipartite network B also with N nodes, which of the following holds true for any $N > 2$:\n",
        "1.   Network A has more links than network B\n",
        "2.   Network A has the same number of links as network B\n",
        "3.   Network A has fewer links than network B\n",
        "4.   None of these hold true for all such $N > 2$"
      ]
    },
    {
      "cell_type": "markdown",
      "metadata": {
        "id": "cwF6C1uLOiWr"
      },
      "source": [
        "Answer: A complete network will always have more links than a bipartite network when $N > 2$, because the bipartite network is splitted in at least two sets of nodes, and the nodes can only connect with nodes of other sets."
      ]
    },
    {
      "cell_type": "markdown",
      "metadata": {
        "id": "SKKotfslOluz"
      },
      "source": [
        "## Question 14\n",
        "\n"
      ]
    },
    {
      "cell_type": "markdown",
      "metadata": {
        "id": "GMh5WvjiPwzv"
      },
      "source": [
        "Consider this adjacency matrix:\n",
        "\n",
        "<center><img width=\"300\" src=\"https://drive.google.com/uc?export=view&id=1e4ANqX_kJCPhnVizvbK-ToBJgrZJpVde\"></center>\n",
        "\n",
        "An entry in the ith row and jth column indicates the weight of the link from node i to node j. For instance, the entry in the second row and third column is 2, meaning the weight of the link from node B to node C is 2. What kind of network does this matrix represent?\n",
        "1.   Undirected, unweighted\n",
        "2.   Undirected, weighted\n",
        "3.   Directed, unweighted\n",
        "4.   Directed, weighted\n"
      ]
    },
    {
      "cell_type": "markdown",
      "metadata": {
        "id": "UD5mRmSpRelN"
      },
      "source": [
        "Answer: As A connects with B (value for the second element is 1) and B does not connects with A (value for the eighth-element is 0), it can only be directed. The links are not just represented as 0 and 1, there are links with the value of 2 or 3, so it must be weighted. Therefore, the correction is number 4."
      ]
    },
    {
      "cell_type": "markdown",
      "metadata": {
        "id": "N92A04bZP6Uu"
      },
      "source": [
        "## Question 15"
      ]
    },
    {
      "cell_type": "markdown",
      "metadata": {
        "id": "MqTaMtfDRKY1"
      },
      "source": [
        "We have seen that Facebook’s network is incredibly sparse. Assume it has approximately 1 billion users, each with 1000 friends on average.\n",
        "\n",
        "1. Suppose Facebook releases its annual report and it shows that while the number of users in the network has stayed the same, the average number of friends per user has increased. Would this imply that the network density increased, decreased, or stayed the same?\n",
        "2. Suppose instead that both the number of users and the average number of friends per user doubled. Would this imply the network density increased, decreased, or stayed the same?\n",
        "\n"
      ]
    },
    {
      "cell_type": "markdown",
      "metadata": {
        "id": "tc14eV8jRXsu"
      },
      "source": [
        "Answer: \n",
        "1. This would imply in the network density increased, because if the number of users stayed the same and the average number of friends per user increased it means that the number of links increased.\n",
        "2. Problably the density of the network stayed quite the same, the entry of new users will make the number of friends increase, but that does not mean that the proportion of the possible connections by the number of users increased, because the number of possible connections also increased, as the number of users increase."
      ]
    },
    {
      "cell_type": "markdown",
      "metadata": {
        "id": "hzp00QnjRgxU"
      },
      "source": [
        "## Question 16"
      ]
    },
    {
      "cell_type": "markdown",
      "metadata": {
        "id": "9O0ElA4FR1sR"
      },
      "source": [
        "Netflix keeps data on customer preferences using a big bipartite network connecting users to titles. Suppose that from 2013 to 2014 Netflix’s library has remained the same size, while the number of users has increased. Further suppose that the average user’s degree in this network has remained constant. Has the density of this network increased, decreased, or stayed the same?"
      ]
    },
    {
      "cell_type": "markdown",
      "metadata": {
        "id": "UdewP6VvR6VD"
      },
      "source": [
        "Answer: Density should decrease, because of the media be given by $d \\cdot (N-1)$ as d is the density and N the number of nodes. As the number of the nodes increases and the media stays the same, density should decrease."
      ]
    },
    {
      "cell_type": "markdown",
      "metadata": {
        "id": "3xO32cYISYkQ"
      },
      "source": [
        "# Exercise - Hands On (1,00 point for grade in Unit 01)"
      ]
    },
    {
      "cell_type": "markdown",
      "metadata": {
        "id": "-I9SonWrTIH-"
      },
      "source": [
        "Implementing all hands on using both [NetworkX](https://networkx.org/) and [Graph-Tool](https://graph-tool.skewed.de/) frameworks."
      ]
    },
    {
      "cell_type": "markdown",
      "metadata": {
        "id": "7if-CnFwSfPc"
      },
      "source": [
        "## Hands On 01"
      ]
    },
    {
      "cell_type": "markdown",
      "metadata": {
        "id": "SuO9vOYd9gFV"
      },
      "source": [
        "\n",
        "Often in the context of trees, a node with degree 1 is called a *leaf*. Write a function named `get_leaves` that takes a graph as an argument, loops through the nodes, and returns a list of nodes with degree 1."
      ]
    },
    {
      "cell_type": "code",
      "metadata": {
        "id": "XUdRjZtzL8ws",
        "colab": {
          "base_uri": "https://localhost:8080/"
        },
        "outputId": "af6a3dcd-0ef2-491f-af63-10bcd78871ae"
      },
      "source": [
        "import networkx as nx\n",
        "import graph_tool as gt\n",
        "%matplotlib inline\n",
        "SG = nx.read_adjlist('friends.adjlist')"
      ],
      "execution_count": 58,
      "outputs": [
        {
          "output_type": "stream",
          "name": "stdout",
          "text": [
            "Graph with 8 nodes and 9 edges\n"
          ]
        }
      ]
    },
    {
      "cell_type": "code",
      "metadata": {
        "scrolled": true,
        "id": "FlGKqf0MmgnB",
        "colab": {
          "base_uri": "https://localhost:8080/"
        },
        "outputId": "bfa77733-2986-437b-f95d-22e112779e89"
      },
      "source": [
        "def get_leaves(G):\n",
        "  leaves = []\n",
        "\n",
        "  for node in G.nodes:\n",
        "    if( len(list(G.neighbors(node)) ) == 1 ):\n",
        "      leaves.append(node)\n",
        "\n",
        "  return leaves\n",
        "\n",
        "get_leaves(SG)"
      ],
      "execution_count": null,
      "outputs": [
        {
          "output_type": "execute_result",
          "data": {
            "text/plain": [
              "['Bob']"
            ]
          },
          "metadata": {},
          "execution_count": 14
        }
      ]
    },
    {
      "cell_type": "code",
      "metadata": {
        "scrolled": true,
        "id": "mVBLr5_xmgnB"
      },
      "source": [
        "G = gt.Graph()\n",
        "G.add_vertex(n=4)\n",
        "G.add_edge(G.vertex(0),G.vertex(1))\n",
        "G.add_edge(G.vertex(0),G.vertex(3))\n",
        "G.add_edge(G.vertex(2),G.vertex(3))\n",
        "\n",
        "def get_leaves_gt(G):\n",
        "  leaves = []\n",
        "  for node in G.vertices():\n",
        "    if( len(G.get_all_neighbors(node)) == 1 ):\n",
        "      leaves.append(node)\n",
        "\n",
        "  return leaves\n",
        "assert set(get_leaves_gt(G)) == {2, 1}\n",
        "\n"
      ],
      "execution_count": 52,
      "outputs": []
    },
    {
      "cell_type": "markdown",
      "metadata": {
        "id": "TcYdyCnEmgnD"
      },
      "source": [
        "## Hands On 02"
      ]
    },
    {
      "cell_type": "markdown",
      "metadata": {
        "id": "MsE6DTbI9m4t"
      },
      "source": [
        "\n",
        "Write a function max_degree that takes a graph as its argument, and returns a 2-tuple with the name and degree of the node with highest degree."
      ]
    },
    {
      "cell_type": "code",
      "metadata": {
        "scrolled": false,
        "id": "DLufczZQmgnD",
        "colab": {
          "base_uri": "https://localhost:8080/"
        },
        "outputId": "6900d857-b654-4fb9-f657-ac0155bfbc8a"
      },
      "source": [
        "def max_degree(G):\n",
        "    max_degree = max(G.degree(node) for node in G.nodes)\n",
        "\n",
        "    for node in G.nodes:\n",
        "      if(G.degree[node] == max_degree):\n",
        "        return (node,G.degree(node))\n",
        "\n",
        "max_degree(SG)"
      ],
      "execution_count": null,
      "outputs": [
        {
          "output_type": "execute_result",
          "data": {
            "text/plain": [
              "('Claire', 4)"
            ]
          },
          "metadata": {},
          "execution_count": 17
        }
      ]
    },
    {
      "cell_type": "code",
      "metadata": {
        "scrolled": false,
        "id": "aEQapPYNmgnD",
        "colab": {
          "base_uri": "https://localhost:8080/"
        },
        "outputId": "b55a74d8-46f5-4b16-eb06-d61ff700bea2"
      },
      "source": [
        "# this block of code is only for networkx adapt it for graph-tool\n",
        "SG = nx.read_adjlist('friends.adjlist')\n",
        "assert max_degree(SG) == ('Claire', 4)\n",
        "print(SG.degree)"
      ],
      "execution_count": 26,
      "outputs": [
        {
          "output_type": "stream",
          "name": "stdout",
          "text": [
            "[('George', 2), ('Frank', 3), ('Dennis', 3), ('Claire', 4), ('Esther', 2), ('Alice', 3), ('Bob', 1), ('Shelly', 0)]\n"
          ]
        }
      ]
    },
    {
      "cell_type": "markdown",
      "metadata": {
        "id": "MCDbNldnmgnD"
      },
      "source": [
        "## Hands on 03"
      ]
    },
    {
      "cell_type": "markdown",
      "metadata": {
        "id": "RWup3uDm9n5I"
      },
      "source": [
        "\n",
        "Write a function `mutual_friends` that takes a graph and two nodes as arguments, and returns a list (or set) of nodes that are linked to both given nodes. For example, in the graph `SG` drawn above,\n",
        "\n",
        "    mutual_friends(SG, 'Alice', 'Claire') == ['Frank']\n",
        "\n",
        "an empty list or set should be returned in the case where two nodes have no mutual friends, e.g. George and Bob in `SG` drawn above."
      ]
    },
    {
      "cell_type": "code",
      "metadata": {
        "scrolled": false,
        "id": "hpnX9YeKmgnD",
        "colab": {
          "base_uri": "https://localhost:8080/"
        },
        "outputId": "1f363999-8165-49f2-9f71-89253f8a7ee2"
      },
      "source": [
        "def mutual_friends(G, node_1, node_2):\n",
        "    return sorted(nx.common_neighbors(G, node_1, node_2))\n",
        "\n",
        "def mutual_friends_gt(G,node_1,node_2):\n",
        "  List1 = G.get_all_neighbours(node_1)\n",
        "  List2 = G.get_all_neighbours(node_2)\n",
        "\n",
        "  common_list = []\n",
        "\n",
        "  for i in List1:\n",
        "    for j in List2:\n",
        "       if i == j:\n",
        "         common_list.append(i)\n",
        "  \n",
        "  return common_list.sort()\n",
        "\n",
        "\n",
        "mutual_friends(SG,'Alice', 'Claire')"
      ],
      "execution_count": 170,
      "outputs": [
        {
          "output_type": "execute_result",
          "data": {
            "text/plain": [
              "['Frank']"
            ]
          },
          "metadata": {},
          "execution_count": 170
        }
      ]
    },
    {
      "cell_type": "code",
      "metadata": {
        "scrolled": true,
        "id": "B2n0vCRYmgnE",
        "colab": {
          "base_uri": "https://localhost:8080/"
        },
        "outputId": "6de520a1-466e-436a-a348-7fa6a8641a24"
      },
      "source": [
        "# this block of code is only for networkx adapt it for graph-tool\n",
        "import matplotlib.pyplot as plt\n",
        "from IPython.display import Image, display\n",
        "SG = nx.read_adjlist('friends.adjlist')\n",
        "\n",
        "Dictionary = dict()\n",
        "\n",
        "G = gt.Graph(directed=False)\n",
        "G.add_vertex(n=8)\n",
        "\n",
        "List = open('friends.adjlist').read().split(' ')\n",
        "for i in range(len(List)):\n",
        "  List[i] = List[i].split('\\n')\n",
        "\n",
        "count = 0\n",
        "\n",
        "for i in range(len(List)):\n",
        "  for j in range(len(List[i])):\n",
        "    if Dictionary.get(List[i][j]) == None:\n",
        "      Dictionary.update({List[i][j]:count})\n",
        "      count += 1\n",
        "      \n",
        "G.vertex_properties[\"name\"] = G.new_vertex_property(\"string\")\n",
        "\n",
        "count = 0\n",
        "Dictionary.pop('')\n",
        "print(Dictionary)\n",
        "\n",
        "for v in G.vertices():\n",
        "  G.vp.name[v] = list(Dictionary.keys())[count]\n",
        "  \n",
        "  count += 1\n",
        "\n",
        "G.add_edge_list([(0,1),(0,2),(2,3),(2,4),(3,1),(3,5),(3,4),(6,5),(1,5)])\n",
        "\n",
        "print(gt.draw.graph_draw(G,\n",
        "                   vertex_text=G.vertex_properties[\"name\"],\n",
        "                   vertex_font_size=5, \n",
        "                   output_size=(250, 250),\n",
        "                   output=\"test.png\"))\n",
        "\n",
        "assert mutual_friends_gt(G, 5, 3) == [1]\n",
        "assert mutual_friends_gt(G, 0, 6) == []\n",
        "assert sorted(mutual_friends_gt(G, 3, 0)) == [1,2]"
      ],
      "execution_count": 189,
      "outputs": [
        {
          "output_type": "stream",
          "name": "stdout",
          "text": [
            "{'George': 0, 'Frank': 1, 'Dennis': 2, 'Claire': 3, 'Esther': 4, 'Alice': 5, 'Bob': 6, 'Shelly': 7}\n",
            "<VertexPropertyMap object with value type 'vector<double>', for Graph 0x7f88af27a190, at 0x7f88af2ede90>\n"
          ]
        }
      ]
    }
  ]
}